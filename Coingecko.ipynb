{
  "nbformat": 4,
  "nbformat_minor": 0,
  "metadata": {
    "colab": {
      "provenance": []
    },
    "kernelspec": {
      "name": "python3",
      "display_name": "Python 3"
    },
    "language_info": {
      "name": "python"
    }
  },
  "cells": [
    {
      "cell_type": "code",
      "execution_count": 1,
      "metadata": {
        "colab": {
          "base_uri": "https://localhost:8080/"
        },
        "id": "N9SqviJnATY0",
        "outputId": "21b098dd-bf12-4d29-b2cb-8329f20b54bc"
      },
      "outputs": [
        {
          "output_type": "stream",
          "name": "stdout",
          "text": [
            "1. Bitcoin (BTC)\n",
            "Current Price: 61664 USD\n",
            "Price Change (1h): -0.34391803414133865%\n",
            "Price Change (24h): -0.6870148853555799%\n",
            "Price Change (7d): 19.210944723187346%\n",
            "\n",
            "\n",
            "2. Ethereum (ETH)\n",
            "Current Price: 3396.97 USD\n",
            "Price Change (1h): -0.4847831101020798%\n",
            "Price Change (24h): -1.1431666540429661%\n",
            "Price Change (7d): 12.11457250127988%\n",
            "\n",
            "\n",
            "3. Tether (USDT)\n",
            "Current Price: 1.0 USD\n",
            "Price Change (1h): -0.014353745354098743%\n",
            "Price Change (24h): -0.09271560728846111%\n",
            "Price Change (7d): 0.04617222890341364%\n",
            "\n",
            "\n",
            "4. BNB (BNB)\n",
            "Current Price: 408.17 USD\n",
            "Price Change (1h): -0.6544694880942005%\n",
            "Price Change (24h): -0.48640561588352926%\n",
            "Price Change (7d): 7.201110457262819%\n",
            "\n",
            "\n",
            "5. Solana (SOL)\n",
            "Current Price: 127.1 USD\n",
            "Price Change (1h): -1.6165379898247794%\n",
            "Price Change (24h): -1.6848422102866738%\n",
            "Price Change (7d): 23.379204730685878%\n",
            "\n",
            "\n"
          ]
        }
      ],
      "source": [
        "import requests\n",
        "# Replace 'YOUR_API_KEY' with your actual API key from coingechko\n",
        "API_KEY = 'CG-FsQSQuZUKcrx7Gs9Q5bGsdS'\n",
        "# Function to fetch cryptocurrency data from CoinGecko\n",
        "def fetch_cryptocurrency_data():\n",
        "    url = 'https://api.coingecko.com/api/v3/coins/markets'\n",
        "    params = {\n",
        "        'vs_currency': 'usd',  # Currency to convert prices into (e.g., 'usd', 'eur')\n",
        "        'order': 'market_cap_desc',  # Order results by market capitalization descending\n",
        "        'per_page': 5,  # Limiting to the top 5 cryptocurrencies\n",
        "        'sparkline': False,  # Disable sparkline (price chart)\n",
        "        'price_change_percentage': '1h,24h,7d'  # Include price change percentages for 1 hour, 24 hours, and 7 days\n",
        "    }\n",
        "    response = requests.get(url, params=params)\n",
        "    if response.status_code == 200:\n",
        "        data = response.json()\n",
        "        # Printing cryptocurrency data\n",
        "        for index, crypto in enumerate(data):\n",
        "            print(f\"{index + 1}. {crypto['name']} ({crypto['symbol'].upper()})\")\n",
        "            print(f\"Current Price: {crypto['current_price']} {params['vs_currency'].upper()}\")\n",
        "            print(f\"Price Change (1h): {crypto['price_change_percentage_1h_in_currency']}%\")\n",
        "            print(f\"Price Change (24h): {crypto['price_change_percentage_24h_in_currency']}%\")\n",
        "            print(f\"Price Change (7d): {crypto['price_change_percentage_7d_in_currency']}%\")\n",
        "            print(\"\\n\")\n",
        "    else:\n",
        "        print('Error fetching cryptocurrency data')\n",
        "\n",
        "# Example usage\n",
        "fetch_cryptocurrency_data()"
      ]
    }
  ]
}