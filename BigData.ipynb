{
  "nbformat": 4,
  "nbformat_minor": 0,
  "metadata": {
    "colab": {
      "provenance": []
    },
    "kernelspec": {
      "name": "python3",
      "display_name": "Python 3"
    },
    "language_info": {
      "name": "python"
    }
  },
  "cells": [
    {
      "cell_type": "code",
      "source": [
        "import pandas as pd\n",
        "#generate a large volume of random data(eg. 1 millon data points)\n",
        "volume_data = pd.read_csv('/content/drive/MyDrive/dataset/income_train.csv')\n",
        "print(\"volume of data:\",len(volume_data))\n"
      ],
      "metadata": {
        "colab": {
          "base_uri": "https://localhost:8080/"
        },
        "id": "Dr52WWVdO2wq",
        "outputId": "d8862860-c6a7-4850-96cb-0e453b15266d"
      },
      "execution_count": 4,
      "outputs": [
        {
          "output_type": "stream",
          "name": "stdout",
          "text": [
            "volume of data: 52\n"
          ]
        }
      ]
    },
    {
      "cell_type": "code",
      "source": [
        "from google.colab import drive\n",
        "drive.mount('/content/drive')"
      ],
      "metadata": {
        "colab": {
          "base_uri": "https://localhost:8080/"
        },
        "id": "Lsf6ANhPyDdt",
        "outputId": "9a2b52a2-03c4-4370-ed83-37c8b5b0e75b"
      },
      "execution_count": 3,
      "outputs": [
        {
          "output_type": "stream",
          "name": "stdout",
          "text": [
            "Drive already mounted at /content/drive; to attempt to forcibly remount, call drive.mount(\"/content/drive\", force_remount=True).\n"
          ]
        }
      ]
    },
    {
      "cell_type": "code",
      "source": [
        "import time\n",
        "import numpy as np\n",
        "#simulate streaming data every second for 10 seconds\n",
        "velocity_data = pd.read_csv('/content/drive/MyDrive/dataset/income_train.csv')\n",
        "for i in range(10):\n",
        "  velocity_data=np.random.rand( )#generate random data\n",
        "  print(\"velocity data point:\",velocity_data)\n",
        "  time.sleep(2)#wait for 1 second to simulate real-time data stream"
      ],
      "metadata": {
        "colab": {
          "base_uri": "https://localhost:8080/"
        },
        "id": "4Ucv3IGhPkya",
        "outputId": "a12ed5ba-43c0-4fa6-cde6-fcc81a53ebcf"
      },
      "execution_count": 5,
      "outputs": [
        {
          "output_type": "stream",
          "name": "stdout",
          "text": [
            "velocity data point: 0.0656890927225402\n",
            "velocity data point: 0.16473945786042277\n",
            "velocity data point: 0.5644979224290532\n",
            "velocity data point: 0.4643345370050085\n",
            "velocity data point: 0.8844291239744952\n",
            "velocity data point: 0.9203351903644964\n",
            "velocity data point: 0.0026362973027616032\n",
            "velocity data point: 0.07332247025727368\n",
            "velocity data point: 0.6894274971385252\n",
            "velocity data point: 0.9020843710369629\n"
          ]
        }
      ]
    },
    {
      "cell_type": "code",
      "source": [
        "import pandas as pd\n",
        "import random\n",
        "#generate some random data with noise\n",
        "veracity_data = pd.read_csv('/content/drive/MyDrive/dataset/income_train.csv')\n",
        "veracity_data=[random.choice([1,2,3,None])for _ in range(20)]\n",
        "print(\"veracity data:\",veracity_data)"
      ],
      "metadata": {
        "colab": {
          "base_uri": "https://localhost:8080/"
        },
        "id": "b-xU5oYEQX2D",
        "outputId": "d40dc621-77f2-4566-e225-4635fc2d83b6"
      },
      "execution_count": 6,
      "outputs": [
        {
          "output_type": "stream",
          "name": "stdout",
          "text": [
            "veracity data: [2, None, 2, 3, None, None, 1, 1, 1, 3, 3, 1, None, None, None, 1, 1, 2, 3, None]\n"
          ]
        }
      ]
    },
    {
      "cell_type": "code",
      "source": [
        "#structured data\n",
        "structured_data = pd.read_csv('/content/drive/MyDrive/dataset/income_train.csv', sep =',')\n",
        "print(structured_data)\n",
        "#semi-structured data(JSON)\n",
        "semistructured_data = pd.read_csv('/content/drive/MyDrive/dataset/income_train.csv', sep =',')\n",
        "print(semistructured_data)\n",
        "#unstructured data(text)\n",
        "unstructured_data=\"This is a sample text document.It can contain any information in free form\"\n",
        "print(unstructured_data)"
      ],
      "metadata": {
        "colab": {
          "base_uri": "https://localhost:8080/"
        },
        "id": "q33BHm3WQm3C",
        "outputId": "4080fa52-840c-4488-ae8a-0ca7dd9cfe92"
      },
      "execution_count": 9,
      "outputs": [
        {
          "output_type": "stream",
          "name": "stdout",
          "text": [
            "    Unnamed: 0  age  education.num  sex  hours.per.week  income\n",
            "0            0   90              9    0              40       0\n",
            "1            1   82              9    0              18       0\n",
            "2            2   66             10    0              40       1\n",
            "3            3   54              4    0              40       0\n",
            "4            4   41             10    0              40       0\n",
            "5            5   34              9    0              45       1\n",
            "6            6   38              6    1              40       0\n",
            "7            7   74             16    0              20       1\n",
            "8            8   68              9    0              40       0\n",
            "9            9   41             10    1              60       1\n",
            "10          10   45             16    0              35       1\n",
            "11          11   38             15    1              45       0\n",
            "12          12   52             13    0              20       1\n",
            "13          13   32             14    1              55       1\n",
            "14          14   51             16    1              40       1\n",
            "15          15   46             15    1              40       1\n",
            "16          16   45              7    1              76       0\n",
            "17          17   57             14    1              50       1\n",
            "18          18   22             12    1              40       1\n",
            "19          19   34             13    1              50       1\n",
            "20          20   37             13    1              40       1\n",
            "21          21   29              7    0              42       0\n",
            "22          22   61              9    0              25       0\n",
            "23          23   51             10    1              40       1\n",
            "24          24   61              9    1              32       0\n",
            "25          25   21             11    1              40       0\n",
            "26          26   33              2    1              32       1\n",
            "27          27   49              3    1              40       0\n",
            "28          28   37              6    1              50       1\n",
            "29          29   38              6    1              90       1\n",
            "30          30   23             10    1              40       1\n",
            "31          31   59              6    0              50       0\n",
            "32          32   52             15    1              60       1\n",
            "33          33   51             13    1              50       1\n",
            "34          34   60              9    1              50       0\n",
            "35          35   63             16    0              60       1\n",
            "36          36   53              9    1              48       0\n",
            "37          37   51             15    0              50       1\n",
            "38          38   37             16    0              60       1\n",
            "39          39   54             14    0              40       0\n",
            "40          40   44             13    1              50       1\n",
            "41          41   43             14    0              40       1\n",
            "42          42   51             10    0              40       1\n",
            "43          43   43             14    0              40       1\n",
            "44          44   71              9    1              15       0\n",
            "45          45   48             13    0              70       1\n",
            "46          46   71              9    1              52       0\n",
            "47          47   73              9    1              40       0\n",
            "48          48   68             10    0              40       0\n",
            "49          49   67             10    1              40       0\n",
            "50          50   40             15    1              45       1\n",
            "51          51   50              9    0              72       1\n",
            "    Unnamed: 0  age  education.num  sex  hours.per.week  income\n",
            "0            0   90              9    0              40       0\n",
            "1            1   82              9    0              18       0\n",
            "2            2   66             10    0              40       1\n",
            "3            3   54              4    0              40       0\n",
            "4            4   41             10    0              40       0\n",
            "5            5   34              9    0              45       1\n",
            "6            6   38              6    1              40       0\n",
            "7            7   74             16    0              20       1\n",
            "8            8   68              9    0              40       0\n",
            "9            9   41             10    1              60       1\n",
            "10          10   45             16    0              35       1\n",
            "11          11   38             15    1              45       0\n",
            "12          12   52             13    0              20       1\n",
            "13          13   32             14    1              55       1\n",
            "14          14   51             16    1              40       1\n",
            "15          15   46             15    1              40       1\n",
            "16          16   45              7    1              76       0\n",
            "17          17   57             14    1              50       1\n",
            "18          18   22             12    1              40       1\n",
            "19          19   34             13    1              50       1\n",
            "20          20   37             13    1              40       1\n",
            "21          21   29              7    0              42       0\n",
            "22          22   61              9    0              25       0\n",
            "23          23   51             10    1              40       1\n",
            "24          24   61              9    1              32       0\n",
            "25          25   21             11    1              40       0\n",
            "26          26   33              2    1              32       1\n",
            "27          27   49              3    1              40       0\n",
            "28          28   37              6    1              50       1\n",
            "29          29   38              6    1              90       1\n",
            "30          30   23             10    1              40       1\n",
            "31          31   59              6    0              50       0\n",
            "32          32   52             15    1              60       1\n",
            "33          33   51             13    1              50       1\n",
            "34          34   60              9    1              50       0\n",
            "35          35   63             16    0              60       1\n",
            "36          36   53              9    1              48       0\n",
            "37          37   51             15    0              50       1\n",
            "38          38   37             16    0              60       1\n",
            "39          39   54             14    0              40       0\n",
            "40          40   44             13    1              50       1\n",
            "41          41   43             14    0              40       1\n",
            "42          42   51             10    0              40       1\n",
            "43          43   43             14    0              40       1\n",
            "44          44   71              9    1              15       0\n",
            "45          45   48             13    0              70       1\n",
            "46          46   71              9    1              52       0\n",
            "47          47   73              9    1              40       0\n",
            "48          48   68             10    0              40       0\n",
            "49          49   67             10    1              40       0\n",
            "50          50   40             15    1              45       1\n",
            "51          51   50              9    0              72       1\n",
            "This is a sample text document.It can contain any information in free form\n"
          ]
        }
      ]
    },
    {
      "cell_type": "code",
      "source": [],
      "metadata": {
        "id": "E2XphR7QQu9K"
      },
      "execution_count": null,
      "outputs": []
    }
  ]
}